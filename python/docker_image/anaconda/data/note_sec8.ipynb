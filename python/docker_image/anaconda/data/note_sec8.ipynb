{
 "cells": [
  {
   "cell_type": "markdown",
   "metadata": {},
   "source": [
    "### ファイル操作"
   ]
  },
  {
   "cell_type": "code",
   "execution_count": 5,
   "metadata": {},
   "outputs": [],
   "source": [
    "# 第一引数:ファイル名称\n",
    "# 第二引数:操作種別\n",
    "    # r:読み込み\n",
    "    # w:書き込み\n",
    "    # a:追記\n",
    "f = open('test.txt', 'a') \n",
    "f.write('\\ntesttest') # こちらの方が一般的\n",
    "print('My', 'name', 'is', 'Mike', file=f, sep='#', end='!')\n",
    "f.close()\n"
   ]
  },
  {
   "cell_type": "code",
   "execution_count": 6,
   "metadata": {},
   "outputs": [],
   "source": [
    "# withステートメント\n",
    "# ファイルは開いたら明示的に閉めないといけない\n",
    "# タブ範囲が終了したら自動的にクローズしてくれる\n",
    "with open('test.txt', 'w') as f:\n",
    "    f.write('test\\n')"
   ]
  },
  {
   "cell_type": "code",
   "execution_count": 11,
   "metadata": {},
   "outputs": [
    {
     "name": "stdout",
     "output_type": "stream",
     "text": [
      "AAA\n",
      "BBB\n",
      "CCC\n",
      "DDD\n"
     ]
    }
   ],
   "source": [
    "# ファイルの読み込み\n",
    "# ファイル作成\n",
    "s = \"\"\"\\\n",
    "AAA\n",
    "BBB\n",
    "CCC\n",
    "DDD\n",
    "\"\"\"\n",
    "# with open('read.txt', 'w') as f:\n",
    "#     f.write(s)\n",
    "with open('read.txt', 'r') as f:\n",
    "    # 全量まとめて読み込む\n",
    "    print(f.read()) \n",
    "    # 一行ずつ読み込む\n",
    "    while True: \n",
    "        line = f.readline()\n",
    "        print(line, end='')\n",
    "        if not line:\n",
    "            break\n",
    "    # チャンクごとに読み込む\n",
    "    while True: \n",
    "        chunk = 2\n",
    "        line = f.readline()\n",
    "        print(line, end='')\n",
    "        if not line:\n",
    "            break\n"
   ]
  },
  {
   "cell_type": "code",
   "execution_count": 18,
   "metadata": {},
   "outputs": [
    {
     "name": "stdout",
     "output_type": "stream",
     "text": [
      "0\n",
      "\n",
      "\n"
     ]
    }
   ],
   "source": [
    "# seek\n",
    "with open('read.txt', 'r') as f:\n",
    "    print(f.tell())\n",
    "    print(f.read(1))\n",
    "    f.seek(5) # ファイルの特定位置を読み込むことができる\n",
    "    print(f.read(1))"
   ]
  },
  {
   "cell_type": "code",
   "execution_count": null,
   "metadata": {},
   "outputs": [],
   "source": []
  },
  {
   "cell_type": "code",
   "execution_count": 23,
   "metadata": {},
   "outputs": [
    {
     "name": "stdout",
     "output_type": "stream",
     "text": [
      "AAA\n",
      "BBB\n",
      "CCC\n",
      "DDD\n",
      "\n",
      "AAA\n",
      "BBB\n",
      "CCC\n",
      "DDD\n",
      "\n"
     ]
    }
   ],
   "source": [
    "with open('read.txt', 'w+') as f: # 書き込んでその後読み込めるようにする\n",
    "    f.write(s)\n",
    "    f.seek(0)\n",
    "    print(f.read())\n",
    "\n",
    "with open('read.txt', 'r+') as f: # 書き込んでその後読み込めるようにする\n",
    "    print(f.read())\n",
    "    # s.seek(0)\n",
    "    f.write(s)"
   ]
  },
  {
   "cell_type": "code",
   "execution_count": 27,
   "metadata": {},
   "outputs": [
    {
     "name": "stdout",
     "output_type": "stream",
     "text": [
      "Hi Mike\n",
      "How are you?\n",
      "Have a good day\n",
      "\n"
     ]
    }
   ],
   "source": [
    "import string\n",
    "\n",
    "# テンプレートの定義を実施\n",
    "s = \"\"\"\\\n",
    "Hi $name\n",
    "$contents\n",
    "Have a good day\n",
    "\"\"\"\n",
    "\n",
    "t = string.Template(s) # テンプレーとを呼び出す\n",
    "contents = t.substitute(name='Mike', contents='How are you?') # テンプレートに対して変数書き込みを実施して実行\n",
    "print(contents)"
   ]
  },
  {
   "cell_type": "code",
   "execution_count": 33,
   "metadata": {},
   "outputs": [
    {
     "name": "stdout",
     "output_type": "stream",
     "text": [
      "A 1\n",
      "B 5\n"
     ]
    }
   ],
   "source": [
    "# csvへの読み書き\n",
    "import csv\n",
    "\n",
    "with open('test.csv', 'w') as csv_file:\n",
    "    fieldnames = ['name', 'count']\n",
    "    writer = csv.DictWriter(csv_file, fieldnames=fieldnames)\n",
    "    writer.writeheader()\n",
    "    writer.writerow({'name': 'A', 'count': 1})\n",
    "    writer.writerow({'name': 'B', 'count': 5})\n",
    "\n",
    "with open('test.csv', 'r') as csv_file:\n",
    "    reader = csv.DictReader(csv_file)\n",
    "    for row in reader:\n",
    "        print(row['name'], row['count'])"
   ]
  },
  {
   "cell_type": "code",
   "execution_count": 45,
   "metadata": {},
   "outputs": [
    {
     "name": "stdout",
     "output_type": "stream",
     "text": [
      "True\n",
      "True\n",
      "['./read.txt', './test.txt']\n"
     ]
    }
   ],
   "source": [
    "# ファイル操作\n",
    "import os\n",
    "import pathlib\n",
    "import glob\n",
    "import shutil\n",
    "\n",
    "# 存在確認\n",
    "print(os.path.exists('test.txt'))\n",
    "# ファイル種別の確認\n",
    "print(os.path.isfile('test.txt'))\n",
    "\n",
    "# リネーム\n",
    "os.rename('test.txt', 'renamed.txt')\n",
    "os.rename('renamed.txt', 'test.txt')\n",
    "# シンボリックリンクの作成\n",
    "os.symlink('test.txt', 'link.txt')\n",
    "os.remove('link.txt')\n",
    "\n",
    "# ディレクトリ操作\n",
    "os.mkdir('test_dir')\n",
    "os.rmdir('test_dir')\n",
    "\n",
    "# ファイル生成\n",
    "pathlib.Path('empty.txt').touch()\n",
    "os.remove('empty.txt')\n",
    "\n",
    "# 条件マッチファイルの抽出\n",
    "print(glob.glob('./*.txt'))"
   ]
  },
  {
   "cell_type": "code",
   "execution_count": 48,
   "metadata": {},
   "outputs": [
    {
     "name": "stdout",
     "output_type": "stream",
     "text": [
      "b''\n"
     ]
    }
   ],
   "source": [
    "# tarfileの圧縮展開\n",
    "import tarfile\n",
    "\n",
    "# 圧縮\n",
    "with tarfile.open('test.tar.gz', 'w:gz') as tr:\n",
    "    tr.add('testdir')\n",
    "\n",
    "# 展開\n",
    "with tarfile.open('test.tar.gz', 'r:gz') as tr:\n",
    "    with tr.extractfile('testdir/sample.txt') as f:\n",
    "        print(f.read())"
   ]
  },
  {
   "cell_type": "code",
   "execution_count": 53,
   "metadata": {},
   "outputs": [
    {
     "name": "stdout",
     "output_type": "stream",
     "text": [
      "testdir/\n",
      "testdir/sample.txt\n",
      "testdir/sample2.txt\n",
      "testdir/sample3.txt\n",
      "b''\n"
     ]
    }
   ],
   "source": [
    "# zipファイルの圧縮展開\n",
    "import zipfile\n",
    "import glob\n",
    "\n",
    "# 書き込み\n",
    "with zipfile.ZipFile('test.zip', 'w') as z:\n",
    "    # z.write('testdir')\n",
    "    # z.write('testdir/sample.txt')\n",
    "    for f in glob.glob('testdir/**', recursive=True):\n",
    "        print(f)\n",
    "        z.write(f)\n",
    "\n",
    "# 読み込み\n",
    "with zipfile.ZipFile('test.zip', 'r') as z:\n",
    "    with z.open('testdir/sample.txt') as f:\n",
    "        print(f.read())"
   ]
  },
  {
   "cell_type": "code",
   "execution_count": 57,
   "metadata": {},
   "outputs": [
    {
     "name": "stdout",
     "output_type": "stream",
     "text": [
      "hello\n",
      "/tmp/tmp1w84ipcp\n",
      "test\n",
      "\n"
     ]
    }
   ],
   "source": [
    "# tempfile\n",
    "import tempfile # 使い終わった後にpythonが自動的に消してくれるもの\n",
    "\n",
    "with tempfile.TemporaryFile(mode='w+') as t:\n",
    "    t.write('hello')\n",
    "    t.seek(0)\n",
    "    print(t.read())\n",
    "\n",
    "with tempfile.NamedTemporaryFile(delete=False) as t:\n",
    "    print(t.name)\n",
    "    with open(t.name, 'w+') as f:\n",
    "        f.write('test\\n')\n",
    "        f.seek(0)\n",
    "        print(f.read())"
   ]
  },
  {
   "cell_type": "code",
   "execution_count": 60,
   "metadata": {},
   "outputs": [
    {
     "name": "stdout",
     "output_type": "stream",
     "text": [
      "/tmp/tmpfqlrm8q3\n",
      "/tmp/tmp9vds8xm6\n"
     ]
    }
   ],
   "source": [
    "with tempfile.TemporaryDirectory() as td:\n",
    "    print(td)\n",
    "\n",
    "temp_dir = tempfile.mkdtemp()\n",
    "print(temp_dir)"
   ]
  },
  {
   "cell_type": "code",
   "execution_count": 65,
   "metadata": {},
   "outputs": [
    {
     "name": "stdout",
     "output_type": "stream",
     "text": [
      "total 68\n",
      "-rw-r--r-- 1 root root     0 Jan 10 16:09 lesson.py\n",
      "drwxr-xr-x 6 root root   192 Jan 10 16:14 lesson_package\n",
      "-rw-r--r-- 1 root root 18556 Jan 10 16:05 note_sec5.ipynb\n",
      "-rw-r--r-- 1 root root  4739 Jan 11 12:13 note_sec6.ipynb\n",
      "-rw-r--r-- 1 root root  6879 Jan 11 12:35 note_sec7.ipynb\n",
      "-rw-r--r-- 1 root root 11662 Jan 11 22:47 note_sec8.ipynb\n",
      "-rw-r--r-- 1 root root    32 Jan 11 15:51 read.txt\n",
      "-rw-r--r-- 1 root root    22 Jan 11 16:00 test.csv\n",
      "-rw-r--r-- 1 root root   276 Jan 11 22:35 test.tar.gz\n",
      "-rw-r--r-- 1 root root     5 Jan 11 15:40 test.txt\n",
      "-rw-r--r-- 1 root root   454 Jan 11 22:39 test.zip\n",
      "drwxr-xr-x 5 root root   160 Jan 11 22:32 testdir\n"
     ]
    },
    {
     "data": {
      "text/plain": [
       "CompletedProcess(args=['ls', '-l'], returncode=0)"
      ]
     },
     "execution_count": 65,
     "metadata": {},
     "output_type": "execute_result"
    }
   ],
   "source": [
    "# subprocess\n",
    "import subprocess # ターミナルで実行するコマンドを実施できる\n",
    "\n",
    "# subprocess.run(['ls'])\n",
    "subprocess.run(['ls', '-l'])\n",
    "\n",
    "# 以下のこまんどはセキュリティ上推奨されていない\n",
    "# subprocess.run('ls -l', shell=True) # shellに第一引数を全て渡して実行してもらっている\n"
   ]
  },
  {
   "cell_type": "code",
   "execution_count": 69,
   "metadata": {},
   "outputs": [
    {
     "name": "stdout",
     "output_type": "stream",
     "text": [
      "2022-01-11 22:50:19.148176\n",
      "2022-01-11T22:50:19.148176\n",
      "11/01/22-22:50:19148176\n"
     ]
    }
   ],
   "source": [
    "# datetime\n",
    "import datetime\n",
    "\n",
    "now = datetime.datetime.now()\n",
    "print(now)\n",
    "print(now.isoformat())\n",
    "print(now.strftime('%d/%m/%y-%H:%M:%S%f'))"
   ]
  },
  {
   "cell_type": "code",
   "execution_count": null,
   "metadata": {},
   "outputs": [],
   "source": []
  }
 ],
 "metadata": {
  "interpreter": {
   "hash": "d4d1e4263499bec80672ea0156c357c1ee493ec2b1c70f0acce89fc37c4a6abe"
  },
  "kernelspec": {
   "display_name": "Python 3.9.7 64-bit ('base': conda)",
   "language": "python",
   "name": "python3"
  },
  "language_info": {
   "codemirror_mode": {
    "name": "ipython",
    "version": 3
   },
   "file_extension": ".py",
   "mimetype": "text/x-python",
   "name": "python",
   "nbconvert_exporter": "python",
   "pygments_lexer": "ipython3",
   "version": "3.9.7"
  },
  "orig_nbformat": 4
 },
 "nbformat": 4,
 "nbformat_minor": 2
}

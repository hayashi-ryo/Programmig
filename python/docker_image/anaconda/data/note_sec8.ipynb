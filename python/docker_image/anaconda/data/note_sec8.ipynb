{
 "cells": [
  {
   "cell_type": "markdown",
   "metadata": {},
   "source": [
    "### ファイル操作"
   ]
  },
  {
   "cell_type": "code",
   "execution_count": 5,
   "metadata": {},
   "outputs": [],
   "source": [
    "# 第一引数:ファイル名称\n",
    "# 第二引数:操作種別\n",
    "    # r:読み込み\n",
    "    # w:書き込み\n",
    "    # a:追記\n",
    "f = open('test.txt', 'a') \n",
    "f.write('\\ntesttest') # こちらの方が一般的\n",
    "print('My', 'name', 'is', 'Mike', file=f, sep='#', end='!')\n",
    "f.close()\n"
   ]
  },
  {
   "cell_type": "code",
   "execution_count": 6,
   "metadata": {},
   "outputs": [],
   "source": [
    "# withステートメント\n",
    "# ファイルは開いたら明示的に閉めないといけない\n",
    "# タブ範囲が終了したら自動的にクローズしてくれる\n",
    "with open('test.txt', 'w') as f:\n",
    "    f.write('test\\n')"
   ]
  },
  {
   "cell_type": "code",
   "execution_count": 11,
   "metadata": {},
   "outputs": [
    {
     "name": "stdout",
     "output_type": "stream",
     "text": [
      "AAA\n",
      "BBB\n",
      "CCC\n",
      "DDD\n"
     ]
    }
   ],
   "source": [
    "# ファイルの読み込み\n",
    "# ファイル作成\n",
    "s = \"\"\"\\\n",
    "AAA\n",
    "BBB\n",
    "CCC\n",
    "DDD\n",
    "\"\"\"\n",
    "# with open('read.txt', 'w') as f:\n",
    "#     f.write(s)\n",
    "with open('read.txt', 'r') as f:\n",
    "    # 全量まとめて読み込む\n",
    "    print(f.read()) \n",
    "    # 一行ずる読み込む\n",
    "    while True: \n",
    "        line = f.readline()\n",
    "        print(line, end='')\n",
    "        if not line:\n",
    "            break\n",
    "    # チャンクごとに読み込む\n",
    "    while True: \n",
    "        chunk = 2\n",
    "        line = f.readline()\n",
    "        print(line, end='')\n",
    "        if not line:\n",
    "            break\n"
   ]
  },
  {
   "cell_type": "code",
   "execution_count": 18,
   "metadata": {},
   "outputs": [
    {
     "name": "stdout",
     "output_type": "stream",
     "text": [
      "0\n",
      "\n",
      "\n"
     ]
    }
   ],
   "source": [
    "# seek\n",
    "with open('read.txt', 'r') as f:\n",
    "    print(f.tell())\n",
    "    print(f.read(1))\n",
    "    f.seek(5) # ファイルの特定位置を読み込むことができる\n",
    "    print(f.read(1))"
   ]
  },
  {
   "cell_type": "code",
   "execution_count": null,
   "metadata": {},
   "outputs": [],
   "source": []
  },
  {
   "cell_type": "code",
   "execution_count": 23,
   "metadata": {},
   "outputs": [
    {
     "name": "stdout",
     "output_type": "stream",
     "text": [
      "AAA\n",
      "BBB\n",
      "CCC\n",
      "DDD\n",
      "\n",
      "AAA\n",
      "BBB\n",
      "CCC\n",
      "DDD\n",
      "\n"
     ]
    }
   ],
   "source": [
    "with open('read.txt', 'w+') as f: # 書き込んでその後読み込めるようにする\n",
    "    f.write(s)\n",
    "    f.seek(0)\n",
    "    print(f.read())\n",
    "\n",
    "with open('read.txt', 'r+') as f: # 書き込んでその後読み込めるようにする\n",
    "    print(f.read())\n",
    "    # s.seek(0)\n",
    "    f.write(s)"
   ]
  },
  {
   "cell_type": "code",
   "execution_count": 27,
   "metadata": {},
   "outputs": [
    {
     "name": "stdout",
     "output_type": "stream",
     "text": [
      "Hi Mike\n",
      "How are you?\n",
      "Have a good day\n",
      "\n"
     ]
    }
   ],
   "source": [
    "import string\n",
    "\n",
    "# テンプレートの定義を実施\n",
    "s = \"\"\"\\\n",
    "Hi $name\n",
    "$contents\n",
    "Have a good day\n",
    "\"\"\"\n",
    "\n",
    "t = string.Template(s) # テンプレーとを呼び出す\n",
    "contents = t.substitute(name='Mike', contents='How are you?') # テンプレートに対して変数書き込みを実施して実行\n",
    "print(contents)"
   ]
  },
  {
   "cell_type": "code",
   "execution_count": 33,
   "metadata": {},
   "outputs": [
    {
     "name": "stdout",
     "output_type": "stream",
     "text": [
      "A 1\n",
      "B 5\n"
     ]
    }
   ],
   "source": [
    "# csvへの読み書き\n",
    "import csv\n",
    "\n",
    "with open('test.csv', 'w') as csv_file:\n",
    "    fieldnames = ['name', 'count']\n",
    "    writer = csv.DictWriter(csv_file, fieldnames=fieldnames)\n",
    "    writer.writeheader()\n",
    "    writer.writerow({'name': 'A', 'count': 1})\n",
    "    writer.writerow({'name': 'B', 'count': 5})\n",
    "\n",
    "with open('test.csv', 'r') as csv_file:\n",
    "    reader = csv.DictReader(csv_file)\n",
    "    for row in reader:\n",
    "        print(row['name'], row['count'])"
   ]
  },
  {
   "cell_type": "code",
   "execution_count": 42,
   "metadata": {},
   "outputs": [
    {
     "name": "stdout",
     "output_type": "stream",
     "text": [
      "True\n",
      "True\n"
     ]
    }
   ],
   "source": [
    "# ファイル操作\n",
    "import os\n",
    "import pathlib\n",
    "\n",
    "# 存在確認\n",
    "print(os.path.exists('test.txt'))\n",
    "# ファイル種別の確認\n",
    "print(os.path.isfile('test.txt'))\n",
    "\n",
    "# リネーム\n",
    "os.rename('test.txt', 'renamed.txt')\n",
    "os.rename('renamed.txt', 'test.txt')\n",
    "# シンボリックリンクの作成\n",
    "os.symlink('test.txt', 'link.txt')\n",
    "os.remove('link.txt')\n",
    "\n",
    "# ディレクトリ操作\n",
    "os.mkdir('test_dir')\n",
    "os.rmdir('test_dir')\n",
    "\n",
    "# ファイル生成\n",
    "pathlib.Path('empty.txt').touch()\n",
    "os.remove('empty.txt')"
   ]
  },
  {
   "cell_type": "code",
   "execution_count": null,
   "metadata": {},
   "outputs": [],
   "source": []
  }
 ],
 "metadata": {
  "interpreter": {
   "hash": "d4d1e4263499bec80672ea0156c357c1ee493ec2b1c70f0acce89fc37c4a6abe"
  },
  "kernelspec": {
   "display_name": "Python 3.9.7 64-bit ('base': conda)",
   "language": "python",
   "name": "python3"
  },
  "language_info": {
   "codemirror_mode": {
    "name": "ipython",
    "version": 3
   },
   "file_extension": ".py",
   "mimetype": "text/x-python",
   "name": "python",
   "nbconvert_exporter": "python",
   "pygments_lexer": "ipython3",
   "version": "3.9.7"
  },
  "orig_nbformat": 4
 },
 "nbformat": 4,
 "nbformat_minor": 2
}

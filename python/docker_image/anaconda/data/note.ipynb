{
 "cells": [
  {
   "cell_type": "markdown",
   "metadata": {},
   "source": [
    "# Python note\n",
    "\n",
    "講座で勉強した情報を自分用にnotebookにまとめていく\n",
    "\n",
    "## 環境情報\n",
    "\n",
    "anaconda環境をdockerで起動し、その上で動作させる\n"
   ]
  },
  {
   "cell_type": "markdown",
   "metadata": {},
   "source": [
    "### while / continue / break\n",
    "\n",
    "条件を満たしている間ループを継続させる。\n",
    "回数が決まっている場合はforを利用し、決まっていない場合にはwhileを利用するイメージ。"
   ]
  },
  {
   "cell_type": "code",
   "execution_count": null,
   "metadata": {},
   "outputs": [
    {
     "name": "stdout",
     "output_type": "stream",
     "text": [
      "0\n",
      "1\n",
      "2\n",
      "3\n",
      "4\n"
     ]
    }
   ],
   "source": [
    "# 基本型\n",
    "count = 0\n",
    "while count < 5: # 条件を満たしている間以下の処理をループさせる\n",
    "    print(count)\n",
    "    count += 1"
   ]
  },
  {
   "cell_type": "code",
   "execution_count": 3,
   "metadata": {},
   "outputs": [
    {
     "name": "stdout",
     "output_type": "stream",
     "text": [
      "0\n",
      "1\n",
      "3\n",
      "4\n"
     ]
    }
   ],
   "source": [
    "# 少し変化させたもの\n",
    "count = 0\n",
    "while True:\n",
    "    if count >= 5:\n",
    "        break # ループを終了させる\n",
    "    if count == 2:\n",
    "        count += 1\n",
    "        continue # 後続の処理を飛ばして次のループに入る\n",
    "    print(count)\n",
    "    count += 1"
   ]
  },
  {
   "cell_type": "code",
   "execution_count": 4,
   "metadata": {},
   "outputs": [
    {
     "name": "stdout",
     "output_type": "stream",
     "text": [
      "0\n",
      "1\n",
      "2\n",
      "3\n",
      "4\n",
      "done\n"
     ]
    }
   ],
   "source": [
    "# elseの書き方\n",
    "count = 0\n",
    "while count < 5:\n",
    "    print(count)\n",
    "    count += 1\n",
    "else: # while条件を満たさない場合に一度実行する\n",
    "    print('done')"
   ]
  },
  {
   "cell_type": "markdown",
   "metadata": {},
   "source": [
    "### for\n",
    "\n",
    "回数や処理対象が決まっている場合に利用する。"
   ]
  },
  {
   "cell_type": "code",
   "execution_count": 5,
   "metadata": {},
   "outputs": [
    {
     "name": "stdout",
     "output_type": "stream",
     "text": [
      "1\n",
      "2\n",
      "3\n",
      "4\n",
      "5\n"
     ]
    }
   ],
   "source": [
    "# for文は書こうと思えば以下のように書ける\n",
    "some_list = [1, 2, 3, 4, 5]\n",
    "\n",
    "i = 0\n",
    "while i < len(some_list):\n",
    "    print(some_list[i])\n",
    "    i += 1"
   ]
  },
  {
   "cell_type": "code",
   "execution_count": 6,
   "metadata": {},
   "outputs": [
    {
     "name": "stdout",
     "output_type": "stream",
     "text": [
      "1\n",
      "2\n",
      "3\n",
      "4\n",
      "5\n"
     ]
    }
   ],
   "source": [
    "# 普通は以下のように書く\n",
    "some_list = [1, 2, 3, 4, 5]\n",
    "for i in some_list: # inの中身をiに入れて、なくまるまでループを回す\n",
    "    print(i)"
   ]
  },
  {
   "cell_type": "code",
   "execution_count": 3,
   "metadata": {},
   "outputs": [
    {
     "name": "stdout",
     "output_type": "stream",
     "text": [
      "apple\n",
      "I don't like banana\n",
      "banana\n",
      "orange\n",
      "I ate all!\n"
     ]
    }
   ],
   "source": [
    "# whileと同じくelse(elif)も使える\n",
    "fruit_list = ['apple', 'banana', 'orange']\n",
    "for fruit in fruit_list:\n",
    "    if fruit == 'banana':\n",
    "        print(\"I don't like banana\")\n",
    "    print(fruit)\n",
    "else:\n",
    "    print('I ate all!')\n"
   ]
  },
  {
   "cell_type": "code",
   "execution_count": 10,
   "metadata": {},
   "outputs": [
    {
     "name": "stdout",
     "output_type": "stream",
     "text": [
      "1\n",
      "3\n",
      "5\n",
      "7\n",
      "9\n"
     ]
    }
   ],
   "source": [
    "# rangeを使って表現する\n",
    "for i in range(1, 10, 2): #1から10まで2加算する\n",
    "    print(i)\n",
    "for _ in range(1,10): # _は利用されない文字列のため、特定回数のループ処理を回したいことが明示的に示すことができる\n",
    "    #処理を記載する\n",
    "    a = 1"
   ]
  },
  {
   "cell_type": "code",
   "execution_count": 11,
   "metadata": {},
   "outputs": [
    {
     "name": "stdout",
     "output_type": "stream",
     "text": [
      "Mon apple coffee\n",
      "Tue banana tea\n",
      "Wed orange beer\n"
     ]
    }
   ],
   "source": [
    "# zip関数、複数のリストをパッキングしてループ処理を実行できる\n",
    "days = ['Mon', 'Tue', 'Wed']\n",
    "fruits = ['apple', 'banana', 'orange']\n",
    "drinks = ['coffee', 'tea', 'beer']\n",
    "\n",
    "for day, fruit, drink in zip(days, fruits, drinks):\n",
    "    print(day, fruit, drink)"
   ]
  },
  {
   "cell_type": "code",
   "execution_count": 12,
   "metadata": {},
   "outputs": [
    {
     "name": "stdout",
     "output_type": "stream",
     "text": [
      "x : 100\n",
      "y : 200\n"
     ]
    }
   ],
   "source": [
    "# 辞書型のループ\n",
    "# d.itemu()でキーバリューどちらも取得することができる\n",
    "d = {'x': 100, 'y': 200}\n",
    "for k, v in d.items():\n",
    "    print(k, ':', v)"
   ]
  },
  {
   "cell_type": "markdown",
   "metadata": {},
   "source": [
    "### input関数\n",
    "\n",
    "コンソールで入力される文字を受け取ることができる。\n",
    "型は全てstr。"
   ]
  },
  {
   "cell_type": "code",
   "execution_count": 14,
   "metadata": {},
   "outputs": [
    {
     "name": "stdout",
     "output_type": "stream",
     "text": [
      "NO\n",
      "next\n",
      "I\n",
      "next\n",
      "OK\n"
     ]
    }
   ],
   "source": [
    "while True:\n",
    "    word = input('Enter:')\n",
    "    print(word)\n",
    "    if word == 'OK':\n",
    "        break\n",
    "    print('next')"
   ]
  },
  {
   "cell_type": "markdown",
   "metadata": {},
   "source": [
    "### def関数\n",
    "\n",
    "複数箇所で利用する処理を関数として定義することができる。\n",
    "pythonは上から処理を読み込むため、利用する箇所より上で定義しておく必要がある。"
   ]
  },
  {
   "cell_type": "code",
   "execution_count": 15,
   "metadata": {},
   "outputs": [
    {
     "name": "stdout",
     "output_type": "stream",
     "text": [
      "Hello\n",
      "Good morning!\n"
     ]
    }
   ],
   "source": [
    "# デフォルト引数定義あり\n",
    "def say_something(say='Hello'):\n",
    "    print(say)\n",
    "\n",
    "say_something()\n",
    "say_something('Good morning!')"
   ]
  },
  {
   "cell_type": "code",
   "execution_count": 19,
   "metadata": {},
   "outputs": [
    {
     "name": "stdout",
     "output_type": "stream",
     "text": [
      "green pepper\n",
      "I don't know\n"
     ]
    }
   ],
   "source": [
    "# 返り値あり\n",
    "def what_is_this(color='red'):\n",
    "    if color == 'red':\n",
    "        return 'tomato'\n",
    "    elif color == 'green':\n",
    "        return 'green pepper'\n",
    "    else:\n",
    "        return \"I don't know\"\n",
    "\n",
    "print(what_is_this('green'))\n",
    "print(what_is_this('blue'))"
   ]
  },
  {
   "cell_type": "code",
   "execution_count": 21,
   "metadata": {},
   "outputs": [
    {
     "name": "stdout",
     "output_type": "stream",
     "text": [
      "Hi\n",
      "Mike\n",
      "Nance\n"
     ]
    }
   ],
   "source": [
    "# 引数のタプル化\n",
    "def say_something(*args): # *argsは複数の引数をタプル化して受け取ってくれる\n",
    "    for arg in args:\n",
    "        print(arg)\n",
    "\n",
    "say_something('Hi', 'Mike', 'Nance')"
   ]
  },
  {
   "cell_type": "code",
   "execution_count": 31,
   "metadata": {},
   "outputs": [
    {
     "name": "stdout",
     "output_type": "stream",
     "text": [
      "entree beef\n",
      "drink coffee\n",
      "#######\n",
      "entree beef\n",
      "drink coffee\n"
     ]
    }
   ],
   "source": [
    "def menu(**kwargs): #キーワードargsの略語、辞書型で引数宣言して関数に渡すことができる\n",
    "    # print(kwargs)\n",
    "    for k, v in kwargs.items():\n",
    "        print(k, v)\n",
    "menu(entree='beef', drink='coffee')\n",
    "print('#######')\n",
    "d = {\n",
    "    'entree': 'beef',\n",
    "    'drink': 'coffee'\n",
    "}\n",
    "menu(**d)"
   ]
  },
  {
   "cell_type": "code",
   "execution_count": 34,
   "metadata": {},
   "outputs": [
    {
     "name": "stdout",
     "output_type": "stream",
     "text": [
      "\n",
      "    こんな感じで関数の説明を記載する\n",
      "    \n"
     ]
    }
   ],
   "source": [
    "# Docstrin\n",
    "def example(param1, param2):\n",
    "    \"\"\"\n",
    "    こんな感じで関数の説明を記載する\n",
    "    \"\"\"\n",
    "\n",
    "print(example.__doc__) # Docstringの取得"
   ]
  },
  {
   "cell_type": "code",
   "execution_count": 41,
   "metadata": {},
   "outputs": [
    {
     "name": "stdout",
     "output_type": "stream",
     "text": [
      "3\n",
      "314.0\n",
      "314.1592\n"
     ]
    }
   ],
   "source": [
    "# クロージャー\n",
    "def outer(a, b):\n",
    "    def inner():\n",
    "        return a + b\n",
    "    return inner\n",
    "\n",
    "f = outer(1,2) # この時点ではまだinner関数の実行がされていない\n",
    "r = f() # ここでinner関数が実行される\n",
    "print(r)\n",
    "\n",
    "def circle_area_func(pi):\n",
    "    def circle_area(radius):\n",
    "        return pi * radius * radius\n",
    "\n",
    "    return circle_area\n",
    "\n",
    "ca1 = circle_area_func(3.14) # この時点ではcircle_areaはまだ実行されていない\n",
    "ca2 = circle_area_func(3.141592)\n",
    "\n",
    "print(ca1(10))\n",
    "print(ca2(10))\n"
   ]
  },
  {
   "cell_type": "code",
   "execution_count": 55,
   "metadata": {},
   "outputs": [
    {
     "name": "stdout",
     "output_type": "stream",
     "text": [
      "start\n",
      "func: add_num\n",
      "args: (10, 20)\n",
      "kwsrgs: {}\n",
      "return: 30\n",
      "end\n",
      "30\n"
     ]
    }
   ],
   "source": [
    "# デコレーター\n",
    "def print_info(func):\n",
    "    def wrappper(*args, **kwargs):\n",
    "        print('start')\n",
    "        result = func(*args, **kwargs)\n",
    "        print('end')\n",
    "        return result\n",
    "    return wrappper\n",
    "\n",
    "def print_more(func):\n",
    "    def wrappper(*args, **kwargs):\n",
    "        print('func:', func.__name__)\n",
    "        print('args:', args)\n",
    "        print('kwsrgs:', kwargs)\n",
    "        result = func(*args, **kwargs)\n",
    "        print('return:', result)\n",
    "        return result\n",
    "    return wrappper\n",
    "\n",
    "@print_info # デコレーターを@で指定すると自動的に実行してくれる\n",
    "@print_more\n",
    "def add_num(a, b):\n",
    "    return a + b\n",
    "\n",
    "r = add_num(10,20)\n",
    "print(r)\n"
   ]
  },
  {
   "cell_type": "code",
   "execution_count": 59,
   "metadata": {},
   "outputs": [
    {
     "name": "stdout",
     "output_type": "stream",
     "text": [
      "Mon\n",
      "Tue\n",
      "Wed\n",
      "Thu\n",
      "Mon\n",
      "Tue\n",
      "Wed\n",
      "Thu\n"
     ]
    }
   ],
   "source": [
    "# ラムダ\n",
    "l = ['Mon', 'tue', 'Wed', 'thu']\n",
    "\n",
    "def change_words(words, func):\n",
    "    for word in words:\n",
    "        print(func(word))\n",
    "\n",
    "#def sample_func(word):\n",
    "#    return word.capitalize()\n",
    "# 上に書いたようなものを以下の一行で実行できる\n",
    "sample_func = lambda word: word.capitalize()\n",
    "\n",
    "change_words(l, sample_func) # 関数実行の引数として関数ごとわたしている\n",
    "change_words(l, lambda word: word.capitalize()) # 同じ結果"
   ]
  },
  {
   "cell_type": "code",
   "execution_count": 63,
   "metadata": {},
   "outputs": [
    {
     "name": "stdout",
     "output_type": "stream",
     "text": [
      "Good morning\n",
      "Good afternoon\n",
      "Good night\n",
      "################\n",
      "Good moring\n",
      "@@@@@\n",
      "Good afternoon\n",
      "@@@@@\n",
      "Good night\n",
      "@@@@@\n"
     ]
    }
   ],
   "source": [
    "# ジェネレータ\n",
    "l = ['Good morning', 'Good afternoon', 'Good night']\n",
    "for i in l:\n",
    "    print(i)\n",
    "\n",
    "print('################')\n",
    "\n",
    "def greeting(): # ループ全体を一気に実行するのではなく、一行ずつ実行させることができる\n",
    "    yield 'Good moring' # ジェネレータ この要素を生成した時点で一度処理を完了させる。nextで次の処理を実行する際に後続をまた動かす\n",
    "    yield 'Good afternoon'\n",
    "    yield 'Good night'\n",
    "\n",
    "# for g in greeting():\n",
    "#     print(g)\n",
    "\n",
    "g = greeting()\n",
    "print(next(g))\n",
    "print('@@@@@')\n",
    "print(next(g))\n",
    "print('@@@@@')\n",
    "print(next(g))\n",
    "print('@@@@@')"
   ]
  },
  {
   "cell_type": "code",
   "execution_count": null,
   "metadata": {},
   "outputs": [],
   "source": []
  }
 ],
 "metadata": {
  "interpreter": {
   "hash": "31f2aee4e71d21fbe5cf8b01ff0e069b9275f58929596ceb00d14d90e3e16cd6"
  },
  "kernelspec": {
   "display_name": "Python 3 (ipykernel)",
   "language": "python",
   "name": "python3"
  },
  "language_info": {
   "codemirror_mode": {
    "name": "ipython",
    "version": 3
   },
   "file_extension": ".py",
   "mimetype": "text/x-python",
   "name": "python",
   "nbconvert_exporter": "python",
   "pygments_lexer": "ipython3",
   "version": "3.9.7"
  }
 },
 "nbformat": 4,
 "nbformat_minor": 4
}

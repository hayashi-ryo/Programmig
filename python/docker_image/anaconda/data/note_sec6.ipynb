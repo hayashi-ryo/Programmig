{
 "cells": [
  {
   "cell_type": "markdown",
   "metadata": {},
   "source": [
    "lesson_packageディレクトリに各種設定ファイルを作成していく"
   ]
  },
  {
   "cell_type": "code",
   "execution_count": 6,
   "metadata": {},
   "outputs": [
    {
     "name": "stdout",
     "output_type": "stream",
     "text": [
      "hello!hello!\n"
     ]
    }
   ],
   "source": [
    "# import あらかじめ作成した設定や関数をimportすることができる\n",
    "# import lesson_package.utils\n",
    "from lesson_package import utils\n",
    "\n",
    "r = utils.say_twice('hello')\n",
    "print(r)"
   ]
  },
  {
   "cell_type": "code",
   "execution_count": 9,
   "metadata": {},
   "outputs": [
    {
     "name": "stdout",
     "output_type": "stream",
     "text": [
      "sing\n"
     ]
    }
   ],
   "source": [
    "# 深い階層に入った場合はその分ピリオドでつなげる\n",
    "from lesson_package.talk import human\n",
    "\n",
    "print(human.sing())"
   ]
  },
  {
   "cell_type": "markdown",
   "metadata": {},
   "source": [
    "### __ini__の意味\n",
    "from * で定義した場合は__ini__で定義したものを読み込む流れになる。\n",
    "ただし、内容がわからないためあまり推奨される使い方ではない"
   ]
  },
  {
   "cell_type": "code",
   "execution_count": 14,
   "metadata": {},
   "outputs": [
    {
     "name": "stdout",
     "output_type": "stream",
     "text": [
      "['C', 'B', 'A']\n"
     ]
    }
   ],
   "source": [
    "# 組み込み関数\n",
    "# https://docs.python.org/ja/3/library/functions.html\n",
    "# に記載がある\n",
    "\n",
    "# 例えばsort関数\n",
    "ranking = {\n",
    "    'A': 100,\n",
    "    'B': 95,\n",
    "    'C': 77\n",
    "}\n",
    "print(sorted(ranking,key=ranking.get, reverse=True))"
   ]
  },
  {
   "cell_type": "code",
   "execution_count": 17,
   "metadata": {},
   "outputs": [
    {
     "name": "stdout",
     "output_type": "stream",
     "text": [
      "{'g': 3, 'f': 1, 'a': 4, 'h': 4, 't': 1, 'i': 1, 'w': 1, 's': 1, 'k': 2, 'j': 2}\n",
      "{'g': 3, 'f': 1, 'a': 4, 'h': 4, 't': 1, 'i': 1, 'w': 1, 's': 1, 'k': 2, 'j': 2}\n",
      "defaultdict(<class 'int'>, {'g': 3, 'f': 1, 'a': 4, 'h': 4, 't': 1, 'i': 1, 'w': 1, 's': 1, 'k': 2, 'j': 2})\n"
     ]
    }
   ],
   "source": [
    "# 標準ライブラリ\n",
    "# https://docs.python.org/ja/3/library/\n",
    "# に記載がある\n",
    "\n",
    "# 例えばdefault\n",
    "s = 'gfahtiawghaskjhgjkah'\n",
    "\n",
    "d = {}\n",
    "for c in s:\n",
    "    if c not in d:\n",
    "        d[c] = 0\n",
    "    d[c] += 1\n",
    "print(d)\n",
    "\n",
    "d = {}\n",
    "for c in s:\n",
    "    d.setdefault(c,0)\n",
    "    d[c] += 1\n",
    "print(d)\n",
    "\n",
    "from collections import defaultdict\n",
    "\n",
    "d = defaultdict(int)\n",
    "for c in s:\n",
    "    d[c] += 1\n",
    "print(d)"
   ]
  },
  {
   "cell_type": "code",
   "execution_count": 18,
   "metadata": {},
   "outputs": [],
   "source": [
    "# サードパーティライブラリ\n",
    "# PyPIというサイトにサードパーティライブラリがまとまっている\n",
    "# pipインストール機能がこれに該当する"
   ]
  },
  {
   "cell_type": "code",
   "execution_count": 1,
   "metadata": {},
   "outputs": [],
   "source": [
    "# importの際の注意点\n",
    "# まず標準ライブラリをアルファベット順でインポート\n",
    "import collections\n",
    "import os\n",
    "import sys\n",
    "\n",
    "# サードパーティライブラリをインポート\n",
    "# import termcolor\n",
    "\n",
    "# 社内パッケージをインポート\n",
    "import lesson_package"
   ]
  },
  {
   "cell_type": "code",
   "execution_count": 20,
   "metadata": {},
   "outputs": [
    {
     "name": "stdout",
     "output_type": "stream",
     "text": [
      "__main__\n"
     ]
    }
   ],
   "source": [
    "print(__name__) # 他のファイルからライブラリインポートされる場合は、ファイル名に自動変換される"
   ]
  }
 ],
 "metadata": {
  "interpreter": {
   "hash": "31f2aee4e71d21fbe5cf8b01ff0e069b9275f58929596ceb00d14d90e3e16cd6"
  },
  "kernelspec": {
   "display_name": "Python 3.9.2 64-bit",
   "language": "python",
   "name": "python3"
  },
  "language_info": {
   "codemirror_mode": {
    "name": "ipython",
    "version": 3
   },
   "file_extension": ".py",
   "mimetype": "text/x-python",
   "name": "python",
   "nbconvert_exporter": "python",
   "pygments_lexer": "ipython3",
   "version": "3.9.7"
  },
  "orig_nbformat": 4
 },
 "nbformat": 4,
 "nbformat_minor": 2
}

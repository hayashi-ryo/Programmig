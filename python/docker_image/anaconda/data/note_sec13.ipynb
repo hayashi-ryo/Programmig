{
 "cells": [
  {
   "cell_type": "markdown",
   "metadata": {},
   "source": [
    "### WEBとネットワーク\n",
    "\n",
    "- xmlとjson\n",
    "  - どちらもテキストベースのフォーマット"
   ]
  },
  {
   "cell_type": "code",
   "execution_count": 2,
   "metadata": {},
   "outputs": [
    {
     "name": "stdout",
     "output_type": "stream",
     "text": [
      "id 111\n",
      "name Mike\n",
      "id 222\n",
      "name Nancy\n"
     ]
    }
   ],
   "source": [
    "# xmlの書き込み\n",
    "\n",
    "import xml.etree.ElementTree as ET\n",
    "\n",
    "root = ET.Element('root')\n",
    "tree = ET.ElementTree(element=root)\n",
    "\n",
    "employee = ET.SubElement(root,'employee')\n",
    "\n",
    "employ = ET.SubElement(employee, 'employ')\n",
    "employ_id = ET.SubElement(employ, 'id')\n",
    "employ_id.text = '111'\n",
    "employ_id = ET.SubElement(employ, 'name')\n",
    "employ_id.text = 'Mike'\n",
    "\n",
    "employ = ET.SubElement(employee, 'employ')\n",
    "employ_id = ET.SubElement(employ, 'id')\n",
    "employ_id.text = '222'\n",
    "employ_id = ET.SubElement(employ, 'name')\n",
    "employ_id.text = 'Nancy'\n",
    "\n",
    "tree.write('test.xml', encoding='utf-8', xml_declaration=True)\n",
    "\n",
    "# 読み込み\n",
    "tree = ET.ElementTree(file='test.xml')\n",
    "root = tree.getroot()\n",
    "\n",
    "for employee in root:\n",
    "    for employ in employee:\n",
    "        for person in employ:\n",
    "            print(person.tag, person.text)"
   ]
  },
  {
   "cell_type": "code",
   "execution_count": 6,
   "metadata": {},
   "outputs": [
    {
     "name": "stdout",
     "output_type": "stream",
     "text": [
      "{'employee': [{'id': 111, 'name': 'Mike'}, {'id': 222, 'name': 'Nancy'}]}\n",
      "##########\n",
      "{\"employee\": [{\"id\": 111, \"name\": \"Mike\"}, {\"id\": 222, \"name\": \"Nancy\"}]}\n",
      "{'employee': [{'id': 111, 'name': 'Mike'}, {'id': 222, 'name': 'Nancy'}]}\n"
     ]
    }
   ],
   "source": [
    "# jsonの書き込み\n",
    "\n",
    "import json\n",
    "\n",
    "j = {\n",
    "    \"employee\":\n",
    "    [\n",
    "        {\"id\": 111, \"name\": \"Mike\"},\n",
    "        {\"id\": 222, \"name\": \"Nancy\"}\n",
    "    ]\n",
    "}\n",
    "\n",
    "print(j)\n",
    "print(\"##########\")\n",
    "print(json.dumps(j))\n",
    "\n",
    "with open('test.json', 'w') as f:\n",
    "    json.dump(j,f)\n",
    "\n",
    "# jsonの読み込み\n",
    "print(\"##########\")\n",
    "with open('test.json', 'r') as f:\n",
    "    print(json.load(f))"
   ]
  },
  {
   "cell_type": "code",
   "execution_count": 15,
   "metadata": {},
   "outputs": [
    {
     "name": "stdout",
     "output_type": "stream",
     "text": [
      "{'args': {}, 'data': '', 'files': {}, 'form': {'{\"key1\": \"value1\", \"key2\": \"value2\"}': ''}, 'headers': {'Accept-Encoding': 'identity', 'Content-Length': '36', 'Content-Type': 'application/x-www-form-urlencoded', 'Host': 'httpbin.org', 'User-Agent': 'Python-urllib/3.9', 'X-Amzn-Trace-Id': 'Root=1-61e38d48-51c887ac2fa0fcae0d469bd4'}, 'json': None, 'origin': '124.209.186.215', 'url': 'http://httpbin.org/post'}\n",
      "{'args': {}, 'data': '', 'files': {}, 'form': {'{\"key1\": \"value1\", \"key2\": \"value2\"}': ''}, 'headers': {'Accept-Encoding': 'identity', 'Content-Length': '36', 'Content-Type': 'application/x-www-form-urlencoded', 'Host': 'httpbin.org', 'User-Agent': 'Python-urllib/3.9', 'X-Amzn-Trace-Id': 'Root=1-61e38d48-2a3f111d668025a62be7033e'}, 'json': None, 'origin': '124.209.186.215', 'url': 'http://httpbin.org/put'}\n",
      "{'args': {}, 'data': '', 'files': {}, 'form': {'{\"key1\": \"value1\", \"key2\": \"value2\"}': ''}, 'headers': {'Accept-Encoding': 'identity', 'Content-Length': '36', 'Content-Type': 'application/x-www-form-urlencoded', 'Host': 'httpbin.org', 'User-Agent': 'Python-urllib/3.9', 'X-Amzn-Trace-Id': 'Root=1-61e38d48-6506dfdf1848bd005cb2ac2e'}, 'json': None, 'origin': '124.209.186.215', 'url': 'http://httpbin.org/delete'}\n"
     ]
    }
   ],
   "source": [
    "# urllibを用いたREST\n",
    "\"\"\"\n",
    "REST\n",
    "\n",
    "httpメソッド クライアントが行いたい処理をサーバに伝える\n",
    "\n",
    "GET    データの参照\n",
    "POST   データの新規登録\n",
    "PUT    データの更新\n",
    "DELETE データの削除\n",
    "\"\"\"\n",
    "\n",
    "import urllib.request\n",
    "import json\n",
    "\n",
    "\n",
    "payload = {'key1': 'value1', 'key2': 'value2'}\n",
    "\n",
    "# url = 'http://httpbin.org/get' + '?' + urllib.parse.urlencode(payload)\n",
    "# with urllib.request.urlopen(url) as f:\n",
    "#     r = json.loads(f.read().decode('utf-8'))\n",
    "#     print(type(r))\n",
    "\n",
    "payload = json.dumps(payload).encode('utf-8')\n",
    "req = urllib.request.Request(\n",
    "    'http://httpbin.org/post', data=payload, method='POST')\n",
    "with urllib.request.urlopen(req) as f:\n",
    "    print(json.loads(f.read().decode('utf-8')))\n",
    "\n",
    "req = urllib.request.Request(\n",
    "    'http://httpbin.org/put', data=payload, method='PUT')\n",
    "with urllib.request.urlopen(req) as f:\n",
    "    print(json.loads(f.read().decode('utf-8')))\n",
    "\n",
    "req = urllib.request.Request(\n",
    "    'http://httpbin.org/delete', data=payload, method='DELETE')\n",
    "with urllib.request.urlopen(req) as f:\n",
    "    print(json.loads(f.read().decode('utf-8')))"
   ]
  },
  {
   "cell_type": "code",
   "execution_count": 21,
   "metadata": {},
   "outputs": [],
   "source": [
    "# requests:サードパーティ製のメソッド直感的にわかりやすい\n",
    "\n",
    "import requests\n",
    "\n",
    "\n",
    "payload = {'key1': 'value1', 'key2': 'value2'}\n",
    "\n",
    "r = r = requests.get('http://httpbin.org/get', params=payload)\n",
    "r = requests.post('http://httpbin.org/post', data=payload)\n",
    "r = requests.put('http://httpbin.org/put', data=payload)\n",
    "r = requests.delete('http://httpbin.org/delete', data=payload)\n",
    "\n",
    "r = requests.get('http://httpbin.org/get', params=payload, timeout=1)\n",
    "# print(r.status_code)\n",
    "# print(r.text)\n",
    "# print(r.json())"
   ]
  },
  {
   "cell_type": "code",
   "execution_count": null,
   "metadata": {},
   "outputs": [],
   "source": [
    "# socket通信\n",
    "\"\"\"\n",
    "ウェルノウンポート (0-1023)\n",
    "登録済ポート番号 (1024-49151)\n",
    "動的・プライベートポート番号 (49152-65535)\n",
    "\"\"\"\n",
    "\n",
    "import socket\n",
    "\n",
    "# サーバー側\n",
    "with socket.socket(socket.AF_INET, socket.SOCK_STREAM) as s:\n",
    "    s.bind(('127.0.0.1', 50007))\n",
    "    s.listen(1)\n",
    "    while True:\n",
    "        conn, addr = s.accept()\n",
    "        with conn:\n",
    "            while True:\n",
    "                data = conn.recv(1024)\n",
    "                if not data:\n",
    "                    break\n",
    "                print('data: {}, addr: {}'.format(data,addr))\n",
    "                conn.sendall(b'Received: ' + data)\n",
    "\n",
    "# クライアント側\n",
    "\n",
    "import socket\n",
    "\n",
    "\n",
    "with socket.socket(socket.AF_INET, socket.SOCK_STREAM) as s:\n",
    "    s.bind(('127.0.0.1', 50007))\n",
    "    s.sendall(b'HEllo')\n",
    "    data = s.recv(1024)\n",
    "    print(repr(data))"
   ]
  },
  {
   "cell_type": "code",
   "execution_count": null,
   "metadata": {},
   "outputs": [],
   "source": [
    "# 簡易サーバ\n",
    "\n",
    "import http.server\n",
    "import socketserver\n",
    "\n",
    "\n",
    "with socketserver.TCPServer(('127.0.0.1', 8000),\n",
    "    http.server.SimpleHTTPRequestHandler) as httpd:\n",
    "\n",
    "    httpd.serve_forever()\n"
   ]
  },
  {
   "cell_type": "code",
   "execution_count": null,
   "metadata": {},
   "outputs": [],
   "source": [
    "# Flask\n",
    "\n",
    "from flask import Flask\n",
    "from flask import g\n",
    "from flask import render_template\n",
    "from flask import request\n",
    "from flask import Response\n",
    "\n",
    "app = Flask(__name__)\n",
    "\n",
    "@app.route('/')\n",
    "def hello_world():\n",
    "    return 'hello world'\n",
    "\n",
    "def main():\n",
    "    app.debug = True\n",
    "    app.run()\n",
    "\n",
    "if __name__ == '__main__':\n",
    "    main()"
   ]
  },
  {
   "cell_type": "code",
   "execution_count": 38,
   "metadata": {},
   "outputs": [
    {
     "name": "stdout",
     "output_type": "stream",
     "text": [
      "Welcome to Python.org\n",
      "\n",
      "Python is a programming language that lets you work quickly and integrate systems more effectively. Learn More\n",
      "\n"
     ]
    }
   ],
   "source": [
    "# webスクレイピング\n",
    "\n",
    "from bs4 import BeautifulSoup\n",
    "import requests\n",
    "\n",
    "\n",
    "html = requests.get('http://www.python.org')\n",
    "\n",
    "soup = BeautifulSoup(html.text, 'lxml')\n",
    "titles = soup.find_all('title')\n",
    "print(titles[0].text)\n",
    "\n",
    "intro = soup.find_all('div', {'class': 'introduction'})\n",
    "print(intro[0].text)"
   ]
  }
 ],
 "metadata": {
  "interpreter": {
   "hash": "d4d1e4263499bec80672ea0156c357c1ee493ec2b1c70f0acce89fc37c4a6abe"
  },
  "kernelspec": {
   "display_name": "Python 3.9.7 64-bit ('base': conda)",
   "language": "python",
   "name": "python3"
  },
  "language_info": {
   "codemirror_mode": {
    "name": "ipython",
    "version": 3
   },
   "file_extension": ".py",
   "mimetype": "text/x-python",
   "name": "python",
   "nbconvert_exporter": "python",
   "pygments_lexer": "ipython3",
   "version": "3.9.7"
  },
  "orig_nbformat": 4
 },
 "nbformat": 4,
 "nbformat_minor": 2
}

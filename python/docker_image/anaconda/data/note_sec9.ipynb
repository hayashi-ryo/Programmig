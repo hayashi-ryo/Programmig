{
 "cells": [
  {
   "cell_type": "markdown",
   "metadata": {},
   "source": [
    "### アプリケーションの開発\n",
    "\n",
    "ここまで学んだ内容をもとに簡単なアプリケーションの開発をやってみる\n",
    "\n",
    "1{ranking check}\n",
    "```"
   ]
  },
  {
   "cell_type": "code",
   "execution_count": 33,
   "metadata": {},
   "outputs": [
    {
     "name": "stdout",
     "output_type": "stream",
     "text": [
      "こんにちは!私はRobokoです。あなたの名前は何ですか?\n",
      "jun\n"
     ]
    }
   ],
   "source": [
    "# 名前の入力待ち受け処理\n",
    "print(\"こんにちは!私はRobokoです。あなたの名前は何ですか?\")\n",
    "name = input('Enter:')\n",
    "print(name)"
   ]
  },
  {
   "cell_type": "code",
   "execution_count": 70,
   "metadata": {},
   "outputs": [
    {
     "name": "stdout",
     "output_type": "stream",
     "text": [
      "junさん。どこのレストランが好きですか?\n",
      "test3\n"
     ]
    }
   ],
   "source": [
    "# お気に入りのレストランを聞く処理\n",
    "name = 'jun'\n",
    "print(\"{}さん。どこのレストランが好きですか?\".format(name))\n",
    "# restaurant = input('Enter:')\n",
    "restaurant = 'test3'\n",
    "print(restaurant)\n",
    "\n",
    "# csvに追記する処理\n",
    "import csv\n",
    "\n",
    "with open('ranking.csv', 'a') as f:\n",
    "    fieldname = ['name', 'count']\n",
    "    writer = csv.DictWriter(f, fieldnames=fieldname)\n",
    "    # writer.writeheader()\n",
    "    writer.writerow({'name':restaurant, 'count':1})\n",
    "    # writer.seek(0)\n"
   ]
  },
  {
   "cell_type": "markdown",
   "metadata": {},
   "source": []
  },
  {
   "cell_type": "code",
   "execution_count": 53,
   "metadata": {},
   "outputs": [
    {
     "name": "stdout",
     "output_type": "stream",
     "text": [
      "junさん。ありがとうございました。\n",
      "良い一日を!さようなら。\n"
     ]
    }
   ],
   "source": [
    "# クローズ処理\n",
    "name = 'jun'\n",
    "print(\"{}さん。ありがとうございました。\".format(name))\n",
    "print(\"良い一日を!さようなら。\")"
   ]
  },
  {
   "cell_type": "code",
   "execution_count": 83,
   "metadata": {},
   "outputs": [
    {
     "ename": "TypeError",
     "evalue": "'DictReader' object is not subscriptable",
     "output_type": "error",
     "traceback": [
      "\u001b[0;31m---------------------------------------------------------------------------\u001b[0m",
      "\u001b[0;31mTypeError\u001b[0m                                 Traceback (most recent call last)",
      "\u001b[0;32m/tmp/ipykernel_56278/173263744.py\u001b[0m in \u001b[0;36m<module>\u001b[0;34m\u001b[0m\n\u001b[1;32m      8\u001b[0m     \u001b[0mheader\u001b[0m \u001b[0;34m=\u001b[0m \u001b[0mnext\u001b[0m\u001b[0;34m(\u001b[0m\u001b[0mreader\u001b[0m\u001b[0;34m)\u001b[0m\u001b[0;34m\u001b[0m\u001b[0;34m\u001b[0m\u001b[0m\n\u001b[1;32m      9\u001b[0m     \u001b[0;31m# 型変換\u001b[0m\u001b[0;34m\u001b[0m\u001b[0;34m\u001b[0m\u001b[0m\n\u001b[0;32m---> 10\u001b[0;31m     \u001b[0mprint\u001b[0m\u001b[0;34m(\u001b[0m\u001b[0mreader\u001b[0m\u001b[0;34m[\u001b[0m\u001b[0;34m'name'\u001b[0m\u001b[0;34m]\u001b[0m\u001b[0;34m)\u001b[0m\u001b[0;34m\u001b[0m\u001b[0;34m\u001b[0m\u001b[0m\n\u001b[0m\u001b[1;32m     11\u001b[0m     \u001b[0;31m# print(sorted(reader, key=operator.itemgetter(1)))\u001b[0m\u001b[0;34m\u001b[0m\u001b[0;34m\u001b[0m\u001b[0m\n\u001b[1;32m     12\u001b[0m     \u001b[0;32mfor\u001b[0m \u001b[0mrow\u001b[0m \u001b[0;32min\u001b[0m \u001b[0mreader\u001b[0m\u001b[0;34m:\u001b[0m\u001b[0;34m\u001b[0m\u001b[0;34m\u001b[0m\u001b[0m\n",
      "\u001b[0;31mTypeError\u001b[0m: 'DictReader' object is not subscriptable"
     ]
    }
   ],
   "source": [
    "# おすすめヒアリング処理\n",
    "# csvファイルの降順読み出し\n",
    "import csv\n",
    "import operator\n",
    "\n",
    "with open('ranking.csv', 'r') as f:\n",
    "    reader = csv.DictReader(f)\n",
    "    header = next(reader)\n",
    "    # 型変換\n",
    "    print(reader['name'])\n",
    "    # print(sorted(reader, key=operator.itemgetter(1)))\n",
    "    for row in reader:\n",
    "        print(\"私のオススメのレストランは、 {}です。\".format(row['name']))\n",
    "        print('このレストランは好きですか? [Yes/No]')\n",
    "        print(type(row['count']))\n",
    "        ans = input()\n",
    "        if ans == 'Yes':\n",
    "            # row['count'] += 1\n",
    "            break"
   ]
  },
  {
   "cell_type": "code",
   "execution_count": null,
   "metadata": {},
   "outputs": [],
   "source": []
  }
 ],
 "metadata": {
  "interpreter": {
   "hash": "d4d1e4263499bec80672ea0156c357c1ee493ec2b1c70f0acce89fc37c4a6abe"
  },
  "kernelspec": {
   "display_name": "Python 3.9.7 64-bit ('base': conda)",
   "language": "python",
   "name": "python3"
  },
  "language_info": {
   "codemirror_mode": {
    "name": "ipython",
    "version": 3
   },
   "file_extension": ".py",
   "mimetype": "text/x-python",
   "name": "python",
   "nbconvert_exporter": "python",
   "pygments_lexer": "ipython3",
   "version": "3.9.7"
  },
  "orig_nbformat": 4
 },
 "nbformat": 4,
 "nbformat_minor": 2
}

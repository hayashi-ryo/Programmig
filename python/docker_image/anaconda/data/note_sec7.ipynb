{
 "cells": [
  {
   "cell_type": "markdown",
   "metadata": {},
   "source": [
    "### クラスとオブジェクト"
   ]
  },
  {
   "cell_type": "code",
   "execution_count": 4,
   "metadata": {},
   "outputs": [
    {
     "name": "stdout",
     "output_type": "stream",
     "text": [
      "hello\n"
     ]
    }
   ],
   "source": [
    "# classを定義して、その中に関数を記載しておく\n",
    "class Person(object):\n",
    "    def say_something(self):\n",
    "        print('hello')\n",
    "\n",
    "person = Person() # オブジェクトの呼び出し\n",
    "person.say_something() # オブジェクトの中の関数の呼び出し"
   ]
  },
  {
   "cell_type": "code",
   "execution_count": 14,
   "metadata": {},
   "outputs": [
    {
     "name": "stdout",
     "output_type": "stream",
     "text": [
      "Mike\n",
      "#####\n",
      "I am Mike\n",
      "run\n"
     ]
    }
   ],
   "source": [
    "# クラスの初期化\n",
    "class Person(object):\n",
    "    def __init__(self, name): #　selfは自分自身のオブジェクトを指す\n",
    "        self.name = name \n",
    "        print(self.name)\n",
    "    \n",
    "    def say_something(self):\n",
    "        print('I am {}'.format(self.name)) # オブジェクトないでselfは引き継げる\n",
    "        self.run()\n",
    "\n",
    "    def run(self):\n",
    "        print('run')\n",
    "\n",
    "person = Person('Mike') # オブジェクトの呼び出し\n",
    "print('#####')\n",
    "person.say_something()"
   ]
  },
  {
   "cell_type": "code",
   "execution_count": 15,
   "metadata": {},
   "outputs": [
    {
     "name": "stdout",
     "output_type": "stream",
     "text": [
      "Mike\n",
      "#####\n",
      "I am Mike\n",
      "run\n"
     ]
    }
   ],
   "source": [
    "# コンストラクタとデストラクタ\n",
    "# クラスの初期化\n",
    "class Person(object):\n",
    "    def __init__(self, name): # 初期化処理をコンストラクラと呼ぶ\n",
    "        self.name = name \n",
    "        print(self.name)\n",
    "    \n",
    "    def say_something(self):\n",
    "        print('I am {}'.format(self.name)) # オブジェクトないでselfは引き継げる\n",
    "        self.run()\n",
    "\n",
    "    def run(self):\n",
    "        print('run')\n",
    "\n",
    "    def __del__(self): # オブジェクトの終了時に実行する処理をデストラクタと呼ぶ\n",
    "        print('good bye')\n",
    "\n",
    "person = Person('Mike') # オブジェクトの呼び出し\n",
    "print('#####')\n",
    "person.say_something()"
   ]
  },
  {
   "cell_type": "code",
   "execution_count": 18,
   "metadata": {},
   "outputs": [
    {
     "name": "stdout",
     "output_type": "stream",
     "text": [
      "run\n",
      "#####\n",
      "subaru run\n"
     ]
    }
   ],
   "source": [
    "# クラスの継承\n",
    "class Car(object):\n",
    "    def run(self):\n",
    "        print('run')\n",
    "\n",
    "# Carオブジェクトを継承して新しいクラスを定義できる\n",
    "# 継承＝呼び出し元の機能を弾きついだ状態で実行できる\n",
    "class ToyotaCar(Car): \n",
    "    pass\n",
    "\n",
    "# 同じ関数を上書きしたら、継承先のコードが優先される\n",
    "# オーバーライド\n",
    "class Subraru(Car): \n",
    "    def run(self):\n",
    "        print('subaru run')\n",
    "\n",
    "car = Car()\n",
    "car.run()\n",
    "\n",
    "print('#####')\n",
    "\n",
    "subaru = Subraru()\n",
    "subaru.run()"
   ]
  },
  {
   "cell_type": "code",
   "execution_count": 19,
   "metadata": {},
   "outputs": [
    {
     "data": {
      "text/plain": [
       "'\\n@propetyやセッターは特定の条件のみ更新させたい、参照させたい場合に利用する機能\\n__（アンダースコア2つの場合はclass内部で参照できるが、外部からは参照できない）\\n'"
      ]
     },
     "execution_count": 19,
     "metadata": {},
     "output_type": "execute_result"
    }
   ],
   "source": [
    "'''\n",
    "@propetyやセッターは特定の条件のみ更新させたい、参照させたい場合に利用する機能\n",
    "__（アンダースコア2つの場合はclass内部で参照できるが、外部からは参照できない）\n",
    "'''"
   ]
  },
  {
   "cell_type": "code",
   "execution_count": 21,
   "metadata": {},
   "outputs": [],
   "source": [
    "class T(object):\n",
    "    pass\n",
    "\n",
    "t = T()\n",
    "t.name = 'mike'\n",
    "t.age = 20\n",
    "\n",
    "# もしclass内部に同じ名称のメソッドや変数が存在する場合は、構造体で追加した内容で更新されてしまう"
   ]
  },
  {
   "cell_type": "code",
   "execution_count": 26,
   "metadata": {},
   "outputs": [
    {
     "name": "stdout",
     "output_type": "stream",
     "text": [
      "human\n",
      "100\n",
      "human\n",
      "about human 2020\n"
     ]
    }
   ],
   "source": [
    "# クラスメソットとスタティックメソッド\n",
    "class Person(object):\n",
    "    kind = 'human'\n",
    "\n",
    "    def __init__(self):\n",
    "        self.x = 100\n",
    "    \n",
    "    # オブジェクトのメソッドではなく、クラスのメソッドであることを示している\n",
    "    @classmethod\n",
    "    def what_is_your_kind(cls):\n",
    "        return cls.kind\n",
    "\n",
    "    # オブジェクトの外においても良いが、classとの紐付けのためにここに書くことが多い\n",
    "    @staticmethod\n",
    "    def about(year):\n",
    "        print('about human {}'.format(year))\n",
    "\n",
    "a = Person()\n",
    "print(a.what_is_your_kind())\n",
    "print(a.x)\n",
    "\n",
    "b = Person\n",
    "# print(b.x) オブジェクトとして生成されていないから__init__が実行されていない\n",
    "print(b.what_is_your_kind()) # オブジェクトを生成していなくてもクラスメソッドにはアクセスできる\n",
    "\n",
    "Person.about(2020)"
   ]
  },
  {
   "cell_type": "code",
   "execution_count": null,
   "metadata": {},
   "outputs": [],
   "source": []
  }
 ],
 "metadata": {
  "interpreter": {
   "hash": "d4d1e4263499bec80672ea0156c357c1ee493ec2b1c70f0acce89fc37c4a6abe"
  },
  "kernelspec": {
   "display_name": "Python 3.9.7 64-bit ('base': conda)",
   "language": "python",
   "name": "python3"
  },
  "language_info": {
   "codemirror_mode": {
    "name": "ipython",
    "version": 3
   },
   "file_extension": ".py",
   "mimetype": "text/x-python",
   "name": "python",
   "nbconvert_exporter": "python",
   "pygments_lexer": "ipython3",
   "version": "3.9.7"
  },
  "orig_nbformat": 4
 },
 "nbformat": 4,
 "nbformat_minor": 2
}
